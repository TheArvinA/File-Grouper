{
  "nbformat": 4,
  "nbformat_minor": 0,
  "metadata": {
    "colab": {
      "provenance": []
    },
    "kernelspec": {
      "name": "python3",
      "display_name": "Python 3"
    },
    "language_info": {
      "name": "python"
    }
  },
  "cells": [
    {
      "cell_type": "markdown",
      "source": [
        "Automated file grouper\\\n",
        "--quick sort groups into folders by file type, and within folder further grouped by recents (less than 6 months old) and older (more than 6 months old)\\\n",
        "--comprehensive sort is a hybrid sort using both file types and dates, as well as unsupervised learning to scan files and establish more context for sorting with unique folders"
      ],
      "metadata": {
        "id": "z-chggVI1THx"
      }
    },
    {
      "cell_type": "code",
      "execution_count": null,
      "metadata": {
        "id": "JxMUVcUx1NoY"
      },
      "outputs": [],
      "source": [
        "import os\n",
        "import shutil\n",
        "from datetime import datetime, timedelta\n",
        "from pathlib import Path\n",
        "\n",
        "def get_creation_date(file_path):\n",
        "    \"\"\"Returns the creation date of a file.\"\"\"\n",
        "    timestamp = os.path.getctime(file_path)\n",
        "    return datetime.fromtimestamp(timestamp)\n",
        "\n",
        "def organize_files_by_type_and_date(directory):\n",
        "    \"\"\"Scans a directory and sorts files by type and creation date.\"\"\"\n",
        "    if not os.path.exists(directory):\n",
        "        print(f\"Error: Directory '{directory}' does not exist.\")\n",
        "        return\n",
        "\n",
        "    # Define file type categories\n",
        "    file_categories = {\n",
        "        \"Documents\": [\".pdf\", \".docx\", \".txt\", \".xlsx\", \".csv\"],\n",
        "        \"Images\": [\".jpg\", \".jpeg\", \".png\", \".gif\", \".bmp\"],\n",
        "        \"Videos\": [\".mp4\", \".avi\", \".mov\", \".mkv\"],\n",
        "        \"Audio\": [\".mp3\", \".wav\", \".aac\", \".flac\"],\n",
        "        \"Code\": [\".py\", \".java\", \".cpp\", \".js\", \".html\", \".css\", \".sh\"],\n",
        "        \"Archives\": [\".zip\", \".tar\", \".rar\", \".7z\"],\n",
        "    }\n",
        "\n",
        "    # Calculate the threshold date (6 months ago)\n",
        "    six_months_ago = datetime.now() - timedelta(days=180)\n",
        "\n",
        "    # Process each file in the directory\n",
        "    for file in os.listdir(directory):\n",
        "        file_path = os.path.join(directory, file)\n",
        "\n",
        "        if os.path.isfile(file_path):\n",
        "            file_extension = Path(file).suffix.lower()\n",
        "            creation_date = get_creation_date(file_path)\n",
        "\n",
        "            # Determine file category\n",
        "            category = \"Other\"\n",
        "            for cat, extensions in file_categories.items():\n",
        "                if file_extension in extensions:\n",
        "                    category = cat\n",
        "                    break\n",
        "\n",
        "            # Determine age-based folder\n",
        "            age_folder = \"Recent\" if creation_date >= six_months_ago else \"Older\"\n",
        "\n",
        "            # Create directories for category and age\n",
        "            category_folder = os.path.join(directory, category)\n",
        "            age_folder_path = os.path.join(category_folder, age_folder)\n",
        "\n",
        "            os.makedirs(age_folder_path, exist_ok=True)\n",
        "\n",
        "            # Move file to the appropriate folder\n",
        "            destination = os.path.join(age_folder_path, file)\n",
        "            shutil.move(file_path, destination)\n",
        "            print(f\"Moved: {file} -> {destination}\")\n",
        "\n",
        "    print(\"Sorting complete!\")\n",
        "\n",
        "# Example usage\n",
        "directory = input(\"Enter the directory to organize: \")\n",
        "organize_files_by_type_and_date(directory)\n"
      ]
    }
  ]
}